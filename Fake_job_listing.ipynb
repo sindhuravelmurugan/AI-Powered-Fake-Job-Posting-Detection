{
  "nbformat": 4,
  "nbformat_minor": 0,
  "metadata": {
    "colab": {
      "provenance": [],
      "gpuType": "T4"
    },
    "kernelspec": {
      "name": "python3",
      "display_name": "Python 3"
    },
    "language_info": {
      "name": "python"
    },
    "accelerator": "GPU"
  },
  "cells": [
    {
      "cell_type": "code",
      "source": [
        "import kagglehub\n",
        "\n",
        "# Download latest version\n",
        "path = kagglehub.dataset_download(\"shivamb/real-or-fake-fake-jobposting-prediction\")\n",
        "\n",
        "print(\"Path to dataset files:\", path)"
      ],
      "metadata": {
        "colab": {
          "base_uri": "https://localhost:8080/"
        },
        "id": "sci0skjtsR-Z",
        "outputId": "7e4ba99e-2a2a-4efc-ab06-924505291e3a"
      },
      "execution_count": 1,
      "outputs": [
        {
          "output_type": "stream",
          "name": "stdout",
          "text": [
            "Downloading from https://www.kaggle.com/api/v1/datasets/download/shivamb/real-or-fake-fake-jobposting-prediction?dataset_version_number=1...\n"
          ]
        },
        {
          "output_type": "stream",
          "name": "stderr",
          "text": [
            "100%|██████████| 16.1M/16.1M [00:00<00:00, 112MB/s]"
          ]
        },
        {
          "output_type": "stream",
          "name": "stdout",
          "text": [
            "Extracting files...\n"
          ]
        },
        {
          "output_type": "stream",
          "name": "stderr",
          "text": [
            "\n"
          ]
        },
        {
          "output_type": "stream",
          "name": "stdout",
          "text": [
            "Path to dataset files: /root/.cache/kagglehub/datasets/shivamb/real-or-fake-fake-jobposting-prediction/versions/1\n"
          ]
        }
      ]
    },
    {
      "cell_type": "markdown",
      "source": [
        "Importing Libraries"
      ],
      "metadata": {
        "id": "2tfM7Y6Ft1q3"
      }
    },
    {
      "cell_type": "code",
      "source": [
        "import pandas as pd\n",
        "import numpy as np\n",
        "import matplotlib.pyplot as plt\n",
        "import seaborn as sns\n",
        "from sklearn.model_selection import train_test_split, GridSearchCV\n",
        "from sklearn.feature_extraction.text import TfidfVectorizer\n",
        "from sklearn.preprocessing import LabelEncoder\n",
        "from sklearn.ensemble import RandomForestClassifier\n",
        "from sklearn.metrics import classification_report, confusion_matrix, roc_auc_score\n",
        "from imblearn.over_sampling import SMOTE\n",
        "import os\n",
        "import kagglehub\n",
        "import warnings\n",
        "warnings.filterwarnings('ignore')"
      ],
      "metadata": {
        "id": "Gap8fgn904L3"
      },
      "execution_count": 2,
      "outputs": []
    },
    {
      "cell_type": "code",
      "source": [
        "csv_file = None\n",
        "for root, dirs, files in os.walk(path):\n",
        "    for file in files:\n",
        "        if file.endswith('.csv'):\n",
        "            csv_file = os.path.join(root, file)\n",
        "            break\n",
        "\n",
        "if csv_file:\n",
        "    print(f\"Found CSV file: {csv_file}\")\n",
        "    # Load the dataset\n",
        "    df = pd.read_csv(csv_file)\n",
        "else:\n",
        "    raise FileNotFoundError(\"No CSV file found in the downloaded dataset.\")"
      ],
      "metadata": {
        "colab": {
          "base_uri": "https://localhost:8080/"
        },
        "id": "1mI1SFrv1Eh9",
        "outputId": "8139e2dc-980d-4726-8f5e-f3037d5663e2"
      },
      "execution_count": 3,
      "outputs": [
        {
          "output_type": "stream",
          "name": "stdout",
          "text": [
            "Found CSV file: /root/.cache/kagglehub/datasets/shivamb/real-or-fake-fake-jobposting-prediction/versions/1/fake_job_postings.csv\n"
          ]
        }
      ]
    },
    {
      "cell_type": "code",
      "source": [
        "print(f\"\\nDataset shape: {df.shape}\")\n",
        "print(\"\\nColumn names:\")\n",
        "print(df.columns.tolist())\n",
        "print(\"\\nClass distribution:\")\n",
        "print(df['fraudulent'].value_counts())\n",
        "print(df['fraudulent'].value_counts(normalize=True).map(lambda x: f\"{x:.2%}\"))\n"
      ],
      "metadata": {
        "colab": {
          "base_uri": "https://localhost:8080/"
        },
        "id": "cGnjEGuS2rXN",
        "outputId": "1cc5a71b-c6e1-4f99-c249-f757aa5da379"
      },
      "execution_count": 4,
      "outputs": [
        {
          "output_type": "stream",
          "name": "stdout",
          "text": [
            "\n",
            "Dataset shape: (17880, 18)\n",
            "\n",
            "Column names:\n",
            "['job_id', 'title', 'location', 'department', 'salary_range', 'company_profile', 'description', 'requirements', 'benefits', 'telecommuting', 'has_company_logo', 'has_questions', 'employment_type', 'required_experience', 'required_education', 'industry', 'function', 'fraudulent']\n",
            "\n",
            "Class distribution:\n",
            "fraudulent\n",
            "0    17014\n",
            "1      866\n",
            "Name: count, dtype: int64\n",
            "fraudulent\n",
            "0    95.16%\n",
            "1     4.84%\n",
            "Name: proportion, dtype: object\n"
          ]
        }
      ]
    },
    {
      "cell_type": "code",
      "source": [
        "print(\"\\nMissing values per column:\")\n",
        "missing_values = df.isnull().sum()\n",
        "print(missing_values[missing_values > 0])"
      ],
      "metadata": {
        "colab": {
          "base_uri": "https://localhost:8080/"
        },
        "id": "pJeUWA5t2v2E",
        "outputId": "b1465a95-03e5-4fce-99da-4ed4eae592dc"
      },
      "execution_count": 5,
      "outputs": [
        {
          "output_type": "stream",
          "name": "stdout",
          "text": [
            "\n",
            "Missing values per column:\n",
            "location                 346\n",
            "department             11547\n",
            "salary_range           15012\n",
            "company_profile         3308\n",
            "description                1\n",
            "requirements            2696\n",
            "benefits                7212\n",
            "employment_type         3471\n",
            "required_experience     7050\n",
            "required_education      8105\n",
            "industry                4903\n",
            "function                6455\n",
            "dtype: int64\n"
          ]
        }
      ]
    },
    {
      "cell_type": "code",
      "source": [
        "text_columns = ['title', 'location', 'department', 'company_profile',\n",
        "                'description', 'requirements', 'benefits', 'employment_type',\n",
        "                'required_experience', 'required_education', 'industry', 'function']\n",
        "\n",
        "for col in text_columns:\n",
        "    if col in df.columns:\n",
        "        df[col] = df[col].fillna('')\n",
        "\n",
        "df['text_features'] = df['title'] + ' ' + df['company_profile'] + ' ' + \\\n",
        "                     df['description'] + ' ' + df['requirements'] + ' ' + \\\n",
        "                     df['benefits']\n"
      ],
      "metadata": {
        "id": "yK7C0oFy3HTf"
      },
      "execution_count": 6,
      "outputs": []
    },
    {
      "cell_type": "code",
      "source": [
        "categorical_features = ['employment_type', 'required_experience', 'required_education', 'industry', 'function']\n",
        "for feature in categorical_features:\n",
        "    if feature in df.columns:\n",
        "        le = LabelEncoder()\n",
        "        df[feature] = df[feature].fillna('Unknown')\n",
        "        df[feature] = le.fit_transform(df[feature])\n",
        "\n",
        "df['has_location'] = df['location'].apply(lambda x: 0 if x == '' else 1)\n"
      ],
      "metadata": {
        "id": "PONqGihl3SuJ"
      },
      "execution_count": 7,
      "outputs": []
    },
    {
      "cell_type": "code",
      "source": [
        "tfidf = TfidfVectorizer(max_features=3000, stop_words='english')\n",
        "X_text = tfidf.fit_transform(df['text_features'])\n",
        "\n",
        "numerical_features = ['telecommuting', 'has_company_logo', 'has_questions', 'has_location'] + categorical_features\n",
        "X_numerical = df[numerical_features].values"
      ],
      "metadata": {
        "id": "lLCp4gLf3VVx"
      },
      "execution_count": 8,
      "outputs": []
    },
    {
      "cell_type": "code",
      "source": [
        "from scipy.sparse import hstack\n",
        "X = hstack([X_text, X_numerical])\n",
        "\n",
        "y = df['fraudulent']\n",
        "\n",
        "X_train, X_test, y_train, y_test = train_test_split(X, y, test_size=0.2, random_state=42, stratify=y)\n",
        "\n",
        "smote = SMOTE(random_state=42)\n",
        "X_train_resampled, y_train_resampled = smote.fit_resample(X_train, y_train)\n",
        "\n",
        "print(\"\\nTraining Random Forest model\")\n",
        "rf_model = RandomForestClassifier(n_estimators=100, random_state=42, n_jobs=-1)\n",
        "rf_model.fit(X_train_resampled, y_train_resampled)\n",
        "\n",
        "y_pred = rf_model.predict(X_test)\n",
        "y_pred_prob = rf_model.predict_proba(X_test)[:, 1]\n"
      ],
      "metadata": {
        "colab": {
          "base_uri": "https://localhost:8080/"
        },
        "id": "aQDHW7bu3rCZ",
        "outputId": "b00adb9f-1444-4e33-824c-0ecabfa148d3"
      },
      "execution_count": 9,
      "outputs": [
        {
          "output_type": "stream",
          "name": "stdout",
          "text": [
            "\n",
            "Training Random Forest model...\n"
          ]
        }
      ]
    },
    {
      "cell_type": "code",
      "source": [
        "print(\"\\nModel Evaluation:\")\n",
        "print(\"\\nClassification Report:\")\n",
        "print(classification_report(y_test, y_pred))\n",
        "\n",
        "print(\"\\nConfusion Matrix:\")\n",
        "conf_matrix = confusion_matrix(y_test, y_pred)\n",
        "print(conf_matrix)"
      ],
      "metadata": {
        "colab": {
          "base_uri": "https://localhost:8080/"
        },
        "id": "x7BbJU7X3t8B",
        "outputId": "4dce0978-3eed-48f8-ba39-4e56d27b4576"
      },
      "execution_count": 10,
      "outputs": [
        {
          "output_type": "stream",
          "name": "stdout",
          "text": [
            "\n",
            "Model Evaluation:\n",
            "\n",
            "Classification Report:\n",
            "              precision    recall  f1-score   support\n",
            "\n",
            "           0       0.98      1.00      0.99      3403\n",
            "           1       0.98      0.69      0.81       173\n",
            "\n",
            "    accuracy                           0.98      3576\n",
            "   macro avg       0.98      0.84      0.90      3576\n",
            "weighted avg       0.98      0.98      0.98      3576\n",
            "\n",
            "\n",
            "Confusion Matrix:\n",
            "[[3400    3]\n",
            " [  54  119]]\n"
          ]
        }
      ]
    },
    {
      "cell_type": "code",
      "source": [
        "plt.figure(figsize=(8, 6))\n",
        "sns.heatmap(conf_matrix, annot=True, fmt='d', cmap='Blues',\n",
        "            xticklabels=['Real', 'Fake'], yticklabels=['Real', 'Fake'])\n",
        "plt.xlabel('Predicted')\n",
        "plt.ylabel('Actual')\n",
        "plt.title('Confusion Matrix')\n",
        "plt.tight_layout()\n",
        "plt.savefig('confusion_matrix.png')\n",
        "print(\"Confusion matrix saved as 'confusion_matrix.png'\")"
      ],
      "metadata": {
        "colab": {
          "base_uri": "https://localhost:8080/",
          "height": 624
        },
        "id": "dialeNux4Pth",
        "outputId": "9d1c4930-3b48-46a7-fb85-5536fc3947a5"
      },
      "execution_count": 11,
      "outputs": [
        {
          "output_type": "stream",
          "name": "stdout",
          "text": [
            "Confusion matrix saved as 'confusion_matrix.png'\n"
          ]
        },
        {
          "output_type": "display_data",
          "data": {
            "text/plain": [
              "<Figure size 800x600 with 2 Axes>"
            ],
            "image/png": "[encoded data removed]"
          },
          "metadata": {}
        }
      ]
    },
    {
      "cell_type": "code",
      "source": [
        "auc_score = roc_auc_score(y_test, y_pred_prob)\n",
        "print(f\"\\nROC AUC Score: {auc_score:.4f}\")\n",
        "\n",
        "feature_names = tfidf.get_feature_names_out().tolist() + numerical_features\n",
        "feature_importance = pd.DataFrame({\n",
        "    'feature': feature_names,\n",
        "    'importance': rf_model.feature_importances_\n",
        "})\n"
      ],
      "metadata": {
        "colab": {
          "base_uri": "https://localhost:8080/"
        },
        "id": "j9zzj36e4UZA",
        "outputId": "08a1e47c-bd22-43df-e53a-8032d321d0a0"
      },
      "execution_count": 12,
      "outputs": [
        {
          "output_type": "stream",
          "name": "stdout",
          "text": [
            "\n",
            "ROC AUC Score: 0.9920\n"
          ]
        }
      ]
    },
    {
      "cell_type": "code",
      "source": [
        "print(\"\\nTop 20 important features:\")\n",
        "top_features = feature_importance.sort_values('importance', ascending=False).head(20)\n",
        "print(top_features)\n",
        "\n",
        "plt.figure(figsize=(12, 8))\n",
        "sns.barplot(x='importance', y='feature', data=top_features)\n",
        "plt.title('Top 20 Important Features')\n",
        "plt.tight_layout()\n",
        "plt.savefig('feature_importance.png')\n",
        "print(\"Feature importance plot saved as 'feature_importance.png'\")"
      ],
      "metadata": {
        "colab": {
          "base_uri": "https://localhost:8080/",
          "height": 1000
        },
        "id": "u5TpDRdz4dtZ",
        "outputId": "8ef28ba9-a707-40a5-8639-716fa79fbc2f"
      },
      "execution_count": 13,
      "outputs": [
        {
          "output_type": "stream",
          "name": "stdout",
          "text": [
            "\n",
            "Top 20 important features:\n",
            "               feature  importance\n",
            "3001  has_company_logo    0.061420\n",
            "3002     has_questions    0.018489\n",
            "881               earn    0.014737\n",
            "3008          function    0.011918\n",
            "1                  000    0.010966\n",
            "1245           growing    0.009717\n",
            "500           clerical    0.007270\n",
            "199         applicable    0.007181\n",
            "2692              team    0.006922\n",
            "941         encouraged    0.006425\n",
            "2742              time    0.006251\n",
            "975              entry    0.006062\n",
            "2929               web    0.005681\n",
            "2957              word    0.005318\n",
            "3007          industry    0.005293\n",
            "2500            skills    0.005289\n",
            "112     administrative    0.005117\n",
            "875             duties    0.005002\n",
            "501              clerk    0.004971\n",
            "335           benefits    0.004791\n",
            "Feature importance plot saved as 'feature_importance.png'\n"
          ]
        },
        {
          "output_type": "display_data",
          "data": {
            "text/plain": [
              "<Figure size 1200x800 with 1 Axes>"
            ],
            "image/png": "[encoded data removed]"
          },
          "metadata": {}
        }
      ]
    },
    {
      "cell_type": "code",
      "source": [
        "def predict_fake_job(job_posting):\n",
        "    \"\"\"\n",
        "    Predict if a job posting is fake.\n",
        "\n",
        "    Parameters:\n",
        "    job_posting (dict): A dictionary containing job posting details\n",
        "\n",
        "    Returns:\n",
        "    tuple: (prediction, probability)\n",
        "    \"\"\"\n",
        "    text_feature = job_posting.get('title', '') + ' ' + \\\n",
        "                  job_posting.get('company_profile', '') + ' ' + \\\n",
        "                  job_posting.get('description', '') + ' ' + \\\n",
        "                  job_posting.get('requirements', '') + ' ' + \\\n",
        "                  job_posting.get('benefits', '')\n",
        "\n",
        "    X_text_new = tfidf.transform([text_feature])\n",
        "    X_num_new = np.array([[\n",
        "        job_posting.get('telecommuting', 0),\n",
        "        job_posting.get('has_company_logo', 0),\n",
        "        job_posting.get('has_questions', 0),\n",
        "        1 if job_posting.get('location', '') != '' else 0,\n",
        "\n",
        "    ]])\n",
        "\n",
        "    X_new = hstack([X_text_new, X_num_new])\n",
        "\n",
        "    pred = rf_model.predict(X_new)[0]\n",
        "    prob = rf_model.predict_proba(X_new)[0, 1]\n",
        "\n",
        "    return pred, prob\n",
        ""
      ],
      "metadata": {
        "id": "svEwe6eL4kgv"
      },
      "execution_count": 15,
      "outputs": []
    },
    {
      "cell_type": "code",
      "source": [
        "print(\"\\nExample prediction:\")\n",
        "sample_job = df.sample(1).iloc[0].to_dict()\n",
        "actual_label = sample_job.pop('fraudulent')\n",
        "pred, prob = predict_fake_job(sample_job)\n",
        "print(f\"Actual: {'Fake' if actual_label == 1 else 'Real'}\")\n",
        "print(f\"Predicted: {'Fake' if pred == 1 else 'Real'} with probability: {prob:.4f}\")"
      ],
      "metadata": {
        "colab": {
          "base_uri": "https://localhost:8080/"
        },
        "id": "EMTuJF0N4paD",
        "outputId": "6388de14-1622-4e99-d313-93d770c89280"
      },
      "execution_count": 19,
      "outputs": [
        {
          "output_type": "stream",
          "name": "stdout",
          "text": [
            "\n",
            "Example prediction:\n",
            "Actual: Real\n",
            "Predicted: Real with probability: 0.1800\n"
          ]
        }
      ]
    },
    {
      "cell_type": "markdown",
      "source": [
        "# Test on multiple random examples"
      ],
      "metadata": {
        "id": "KHZhrbqkKlsw"
      }
    },
    {
      "cell_type": "code",
      "source": [
        "\n",
        "print(\"\\nMultiple random predictions:\")\n",
        "num_samples = 5\n",
        "sample_jobs = df.sample(num_samples)\n",
        "\n",
        "for i, (idx, row) in enumerate(sample_jobs.iterrows()):\n",
        "    job_dict = row.to_dict()\n",
        "    actual_label = job_dict.pop('fraudulent')\n",
        "    pred, prob = predict_fake_job(job_dict)\n",
        "    print(f\"Example {i+1}:\")\n",
        "    print(f\"Actual: {'Fake' if actual_label == 1 else 'Real'}\")\n",
        "    print(f\"Predicted: {'Fake' if pred == 1 else 'Real'} with probability: {prob:.4f}\")\n",
        "    print(\"---\")"
      ],
      "metadata": {
        "colab": {
          "base_uri": "https://localhost:8080/"
        },
        "id": "CjvyDDmP5FBZ",
        "outputId": "969bc8c2-777f-4bc2-9d41-97defe6169aa"
      },
      "execution_count": 27,
      "outputs": [
        {
          "output_type": "stream",
          "name": "stdout",
          "text": [
            "\n",
            "Multiple random predictions:\n",
            "Example 1:\n",
            "Actual: Fake\n",
            "Predicted: Fake with probability: 0.9600\n",
            "---\n",
            "Example 2:\n",
            "Actual: Real\n",
            "Predicted: Real with probability: 0.1100\n",
            "---\n",
            "Example 3:\n",
            "Actual: Real\n",
            "Predicted: Real with probability: 0.0100\n",
            "---\n",
            "Example 4:\n",
            "Actual: Real\n",
            "Predicted: Real with probability: 0.0000\n",
            "---\n",
            "Example 5:\n",
            "Actual: Real\n",
            "Predicted: Real with probability: 0.1400\n",
            "---\n"
          ]
        }
      ]
    }
  ]
}